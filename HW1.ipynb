{
 "cells": [
  {
   "cell_type": "markdown",
   "metadata": {},
   "source": [
    "## Numbers_and_Strings()"
   ]
  },
  {
   "cell_type": "code",
   "execution_count": 1,
   "metadata": {},
   "outputs": [],
   "source": [
    "# Assign a string \"Stevens\" to a variable y\n",
    "# y = \"Stevens\"\n",
    "# y"
   ]
  },
  {
   "cell_type": "code",
   "execution_count": 2,
   "metadata": {},
   "outputs": [],
   "source": [
    "# Repeat variable y 5 times\n",
    "# z = y*5\n",
    "# if this is what profeeser means var 'z'"
   ]
  },
  {
   "cell_type": "code",
   "execution_count": 3,
   "metadata": {},
   "outputs": [],
   "source": [
    " # What is the length of z?\n",
    "# len(z)"
   ]
  },
  {
   "cell_type": "code",
   "execution_count": 4,
   "metadata": {},
   "outputs": [],
   "source": [
    "  # Concatenate variable y with string \" is good\"\n",
    "# y_new = y + \" is good\"\n",
    "# y_new"
   ]
  },
  {
   "cell_type": "code",
   "execution_count": 5,
   "metadata": {},
   "outputs": [],
   "source": [
    "    # Replace \"good\" with \"awesome\" in variable m and assign it to a new variable n\n",
    "# m= 'awesome'\n",
    "# n=y_new.replace('good',m)\n",
    "# n"
   ]
  },
  {
   "cell_type": "code",
   "execution_count": 6,
   "metadata": {},
   "outputs": [],
   "source": [
    "def numbers_and_strings():\n",
    "    \"\"\"\n",
    "    This is to review numbers and strings and basic operations.\n",
    "    \"\"\"\n",
    "    # Assign a string \"EE551\" to a variable x\n",
    "    x = \"EE551\"\n",
    "\n",
    "    # Assign a string \"Stevens\" to a variable y\n",
    "    y = \"Stevens\"\n",
    "\n",
    "    # Repeat variable y 5 times\n",
    "    z = y * 5\n",
    "\n",
    "    # What is the length of z?\n",
    "    length = len(z)\n",
    "    \n",
    "    # Concatenate variable y with string \" is good\"\n",
    "    m = y + \" is good\"\n",
    "    \n",
    "    # Replace \"good\" with \"awesome\" in variable m and assign it to a new variable n\n",
    "    n = m.replace(\"good\",\"awesome\")\n",
    "    \n",
    "    return x, y, z, length, m, n"
   ]
  },
  {
   "cell_type": "code",
   "execution_count": 7,
   "metadata": {},
   "outputs": [],
   "source": [
    "## Test\n",
    "##print(numbers_and_strings())"
   ]
  },
  {
   "cell_type": "markdown",
   "metadata": {},
   "source": [
    "## Lists()"
   ]
  },
  {
   "cell_type": "code",
   "execution_count": 8,
   "metadata": {},
   "outputs": [],
   "source": [
    "# Q2\n",
    "def lists():\n",
    "    \"\"\"\n",
    "    This is to review basic operations with lists.\n",
    "    \"\"\"\n",
    "    n = \"Stevens is awesome\"\n",
    "\n",
    "    # Split variable n on a delimiter space into a list of substrings\n",
    "    p = n.split()\n",
    "    # Get all the items past the first of the third substring\n",
    "    r =p[2][1:]\n",
    "    # Create a 3 x 3 matrix as nested list such that\n",
    "    #   first row is [1, 4, 5]\n",
    "    #   second row is [6, 10, 11]\n",
    "    #   third row is [12, 17, 38]\n",
    "    A = [\n",
    "    [1,4,5],\n",
    "    [6,10,11],\n",
    "    [12,17,38]\n",
    "    ]\n",
    "    # Collect the items in the last column of matrix A using list comprehension\n",
    "    c = []\n",
    "    c.append(A[:][2])\n",
    "    # Collect only the even items of the diagonal of matrix A using list comprehension\n",
    "    d =[]\n",
    "    d.append( [x for x in A[0] if x % 2 == 0])\n",
    "    d.append( [x for x in A[1] if x % 2 == 0])\n",
    "    d .append( [x for x in A[2] if x % 2 == 0])\n",
    "    # We can convert a single character to its underlying integer code (e.g., its ASCII byte value)\n",
    "    # by passing it to the built-in ord function. Generate a list of these integers to represent\n",
    "    # each character of the string \"Stevens\" using list comprehension.\n",
    "    o = []\n",
    "    for i in \"Stevens\":\n",
    "        j= ord(i)\n",
    "        o.append(j)\n",
    "    return p, r, c, d, o\n"
   ]
  },
  {
   "cell_type": "code",
   "execution_count": 9,
   "metadata": {},
   "outputs": [],
   "source": [
    "# n = \"Stevens is awesome\"\n",
    "# list = n.split()\n",
    "# list"
   ]
  },
  {
   "cell_type": "code",
   "execution_count": 10,
   "metadata": {},
   "outputs": [],
   "source": [
    "# list[2][1:]"
   ]
  },
  {
   "cell_type": "code",
   "execution_count": 11,
   "metadata": {},
   "outputs": [],
   "source": [
    "# A = [[1,4,5],\n",
    "#     [6,10,11],\n",
    "#      [12,17,38]\n",
    "#     ]\n",
    "# A[0]# first row"
   ]
  },
  {
   "cell_type": "code",
   "execution_count": 12,
   "metadata": {},
   "outputs": [],
   "source": [
    "# lastRow = []\n",
    "# lastRow.append(A[:][2])\n",
    "# lastRow"
   ]
  },
  {
   "cell_type": "code",
   "execution_count": 13,
   "metadata": {},
   "outputs": [],
   "source": [
    "# collectA =[]\n",
    "# collectA.append( [x for x in A[0] if x % 2 == 0])\n",
    "# collectA.append( [x for x in A[1] if x % 2 == 0])\n",
    "# collectA .append( [x for x in A[2] if x % 2 == 0])\n",
    "# collectA\n"
   ]
  },
  {
   "cell_type": "code",
   "execution_count": 14,
   "metadata": {},
   "outputs": [],
   "source": [
    "# o = []\n",
    "# for i in \"Stevens\":\n",
    "#     j= ord(i)\n",
    "#     o.append(j)\n",
    "# o"
   ]
  },
  {
   "cell_type": "code",
   "execution_count": 15,
   "metadata": {},
   "outputs": [],
   "source": [
    "# ## test\n",
    "# print(lists())"
   ]
  },
  {
   "cell_type": "markdown",
   "metadata": {},
   "source": [
    "## Dictionaries()"
   ]
  },
  {
   "cell_type": "code",
   "execution_count": 16,
   "metadata": {},
   "outputs": [
    {
     "data": {
      "text/plain": [
       "('apple', 5, 'programmer', ['age', 'jobs', 'name'])"
      ]
     },
     "execution_count": 16,
     "metadata": {},
     "output_type": "execute_result"
    }
   ],
   "source": [
    "def dictionaries():\n",
    "    \"\"\"\n",
    "    This is to review basic operations with dictionaries.\n",
    "    \"\"\"\n",
    "    # Create a dictionary that maps:\n",
    "    #   fruit => \"apple\"\n",
    "    #   quantity => 4\n",
    "    #   color => \"green\"\n",
    "    f={\n",
    "    \"fruit\": \"apple\",\n",
    "    \"quantity\":4,\n",
    "    \"color\": \"green\",\n",
    "    }\n",
    "    # Get the item in dictionary f that the key \"fruit\" maps to\n",
    "    a = f[\"fruit\"]\n",
    "    # Increase the quantity of f by 1\n",
    "    # IMPLEMENT IT HERE\n",
    "    f[\"quantity\"] = f['quantity']+1\n",
    "    f = f[\"quantity\"]\n",
    "    # Create a nested dictionary where:\n",
    "    #   name => {first_name => \"Grace\", last_name => \"Hopper\"} (a dictionary)\n",
    "    #   jobs => [\"scientist\", \"engineer\"] (a list)\n",
    "    #   age => 85\n",
    "    jobs ={\n",
    "    \"name\":  {\"first_name\": \"Grace\", \"last_name\" :\"Hopper\"}, #(a dictionary)\n",
    "    \"jobs\": [\"scientist\", \"engineer\"], #(a list)\n",
    "    \"age\" : 85\n",
    "    }\n",
    "    # Add \"programmer\" to the list of jobs Grace has\n",
    "    # IMPLEMENT IT HERE\n",
    "    jobs[\"jobs\"].append(\"programmer\")\n",
    "    # Get the third job Grace has that you recently added\n",
    "    p = jobs[\"jobs\"][2]\n",
    "    # Use the sort() function to get sorted keys of amazing_grace in alphabetically ascending order\n",
    "    ppp= jobs.keys()\n",
    "    k = sorted(ppp)\n",
    "    ## ???????/ how to get the keys from : type dict_keys([]) to a list??\n",
    "    return a, f, p, k\n",
    "\n",
    "numbers_and_strings()\n",
    "lists()\n",
    "dictionaries()"
   ]
  },
  {
   "cell_type": "code",
   "execution_count": 17,
   "metadata": {},
   "outputs": [],
   "source": [
    "# f={\n",
    "#     \"fruit\": \"apple\",\n",
    "#     \"quantity\":4,\n",
    "#     \"color\": \"green\",\n",
    "# }\n",
    "# f[\"fruit\"]\n",
    "# f[\"quantity\"] = f['quantity']+1\n",
    "# f[\"quantity\"]"
   ]
  },
  {
   "cell_type": "code",
   "execution_count": 18,
   "metadata": {},
   "outputs": [],
   "source": [
    "# jobs ={\n",
    "#     \"name\":  {\"first_name\": \"Grace\", \"last_name\" :\"Hopper\"}, #(a dictionary)\n",
    "#     \"jobs\": [\"scientist\", \"engineer\"], #(a list)\n",
    "#     \"age\" : 85\n",
    "# }\n",
    "# jobs[\"jobs\"].append(\"programmer\")\n",
    "# print(jobs[\"jobs\"][2])\n",
    "# ppp= jobs.keys()\n",
    "\n",
    "# # list.sort(jobs.keys())\n",
    "# # # sorted(ppp)"
   ]
  }
 ],
 "metadata": {
  "kernelspec": {
   "display_name": "Python 3",
   "language": "python",
   "name": "python3"
  },
  "language_info": {
   "codemirror_mode": {
    "name": "ipython",
    "version": 3
   },
   "file_extension": ".py",
   "mimetype": "text/x-python",
   "name": "python",
   "nbconvert_exporter": "python",
   "pygments_lexer": "ipython3",
   "version": "3.7.0"
  }
 },
 "nbformat": 4,
 "nbformat_minor": 2
}
